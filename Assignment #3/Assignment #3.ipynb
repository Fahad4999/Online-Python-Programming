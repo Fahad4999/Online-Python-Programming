{
 "cells": [
  {
   "cell_type": "code",
   "execution_count": 39,
   "id": "a2d4e65e",
   "metadata": {},
   "outputs": [
    {
     "name": "stdout",
     "output_type": "stream",
     "text": [
      "Twinkle, twinkle, little star,\n",
      "\tHow I wonder what you are!\n",
      "\n",
      "\t\tUp above the world so high,\n",
      "\t\tLike a diamond in the sky.\n",
      "\n",
      "Twinkle, twinkle, little star,\n",
      "\tHow I wonder what you are\n"
     ]
    }
   ],
   "source": [
    "\"\"\"Q1. Write a Python program to print the following string in a specific format (see the\n",
    "output).\n",
    "\n",
    "Twinkle, twinkle, little star,\n",
    "    How I wonder what you are!\n",
    "        Up above the world so high,\n",
    "        Like a diamond in the sky.\n",
    "Twinkle, twinkle, little star,\n",
    "    How I wonder what you are\n",
    "\"\"\"\n",
    "print(\"Twinkle, twinkle, little star,\"); \n",
    "print(\"\\tHow I wonder what you are!\");\n",
    "print(\"\\n\\t\\tUp above the world so high,\"); \n",
    "print(\"\\t\\tLike a diamond in the sky.\");\n",
    "print(\"\\nTwinkle, twinkle, little star,\"); \n",
    "print(\"\\tHow I wonder what you are\");"
   ]
  },
  {
   "cell_type": "code",
   "execution_count": 29,
   "id": "1c850969",
   "metadata": {},
   "outputs": [
    {
     "name": "stdout",
     "output_type": "stream",
     "text": [
      "Python Version: \n",
      "3.8.8 (default, Apr 13 2021, 15:08:03) [MSC v.1916 64 bit (AMD64)]\n",
      "\n",
      "Version Info: \n",
      "sys.version_info(major=3, minor=8, micro=8, releaselevel='final', serial=0)\n"
     ]
    }
   ],
   "source": [
    "\"\"\"Q2. Write a Python program to get the Python version you are using\"\"\"\n",
    "import sys;\n",
    "print(\"Python Version: \");\n",
    "print(sys.version);\n",
    "print(\"\\nVersion Info: \");\n",
    "print(sys.version_info);"
   ]
  },
  {
   "cell_type": "code",
   "execution_count": 30,
   "id": "3ef44210",
   "metadata": {},
   "outputs": [
    {
     "name": "stdout",
     "output_type": "stream",
     "text": [
      "Current Date and Time: \n",
      "\n",
      "23:53:54 PM, Saturday, October 23th, 2021\n"
     ]
    }
   ],
   "source": [
    "\"\"\"Q3. Write a Python program to display the current date and time.\"\"\"\n",
    "import datetime;\n",
    "now = datetime.datetime.now();\n",
    "print(\"Current Date and Time: \\n\");\n",
    "print(now.strftime('%H:%M:%S %p, %A, %B %dth, %Y'))"
   ]
  },
  {
   "cell_type": "code",
   "execution_count": 40,
   "id": "1acf6a6f",
   "metadata": {},
   "outputs": [
    {
     "name": "stdout",
     "output_type": "stream",
     "text": [
      "Enter the Radius of the Circle: 6\n",
      "\n",
      "The area of the Circle with radius 6.0 is: 113.09733552923255\n"
     ]
    }
   ],
   "source": [
    "\"\"\"Q4. Write a Python program which accepts the radius of a circle from the user and compute\n",
    "the area.\"\"\"\n",
    "import math;\n",
    "radius = float(input(\"Enter the Radius of the Circle: \"));\n",
    "area = math.pi*radius**2;\n",
    "print(\"\\nThe area of the Circle with radius \"+str(radius)+\" is: \"+str(area));"
   ]
  },
  {
   "cell_type": "code",
   "execution_count": 32,
   "id": "48b37a93",
   "metadata": {},
   "outputs": [
    {
     "name": "stdout",
     "output_type": "stream",
     "text": [
      "Enter your first name: Shah\n",
      "Enter your last name: Fahad\n",
      "\n",
      "Swaping Name: Fahad Shah\n",
      "\n",
      "Reverse Order: dahaF  hahS\n"
     ]
    }
   ],
   "source": [
    "\"\"\"Q5. Write a Python program which accepts the user's first and last name and print them in\n",
    "reverse order with a space between them.\"\"\"\n",
    "firstname = input(\"Enter your first name: \");\n",
    "lastname = input(\"Enter your last name: \");\n",
    "print(\"\\nSwaping Name: \" +lastname + \" \" + firstname);\n",
    "fn = firstname[::-1];\n",
    "ln = lastname[::-1];\n",
    "print(\"\\nReverse Order: \" + ln,\"\",fn);"
   ]
  },
  {
   "cell_type": "code",
   "execution_count": 33,
   "id": "1f660c7c",
   "metadata": {},
   "outputs": [
    {
     "name": "stdout",
     "output_type": "stream",
     "text": [
      "Enter First Number: 6\n",
      "Enter Second Number: 3\n",
      "Sum:  9\n"
     ]
    }
   ],
   "source": [
    "\"\"\"Q6. Write a python program which takes two inputs from user and print them addition\"\"\"\n",
    "num1 = int(input(\"Enter First Number: \"));\n",
    "num2 = int(input(\"Enter Second Number: \"));\n",
    "sum = num1 + num2;\n",
    "print(\"Sum: \",sum);"
   ]
  },
  {
   "cell_type": "code",
   "execution_count": 34,
   "id": "4f2833d3",
   "metadata": {},
   "outputs": [
    {
     "name": "stdout",
     "output_type": "stream",
     "text": [
      "---------------------------------\n",
      "Enter English Marks: 21\n",
      "Enter Islamiyat Marks: 56\n",
      "Enter Maths Marks: 76\n",
      "Enter Physics Marks: 88\n",
      "Enter Computer Marks: 45\n",
      "---------------------------------\n",
      "Marks of English : 21\n",
      "Marks of Islamiyat : 56\n",
      "Marks of Maths : 76\n",
      "Marks of Physics : 88\n",
      "Marks of Computer : 45\n",
      "---------------------------------\n",
      "Total Marks: 500\n",
      "---------------------------------\n",
      "Obtained Marks : 286\n",
      "---------------------------------\n",
      "Percentage : 57.199999999999996%\n",
      "---------------------------------\n",
      "Grade : C\n",
      "Remarks : Fair\n",
      "---------------------------------\n",
      "Failed Subjects : 1\n",
      "Failed Subjects Name:  English,\n",
      "---------------------------------\n"
     ]
    }
   ],
   "source": [
    "\"\"\"Q7. Write a program which takes 5 inputs from user for different subject’s marks, total it\n",
    "and generate mark sheet using grades ?\"\"\"\n",
    "print(\"---------------------------------\");\n",
    "english = int(input(\"Enter English Marks: \"));\n",
    "islamiyat = int(input(\"Enter Islamiyat Marks: \"));\n",
    "maths = int(input(\"Enter Maths Marks: \"));\n",
    "physics = int(input(\"Enter Physics Marks: \"));\n",
    "computer = int(input(\"Enter Computer Marks: \"));\n",
    "print(\"---------------------------------\");\n",
    "\n",
    "print(\"Marks of English : \" + str(english));\n",
    "print(\"Marks of Islamiyat : \" + str(islamiyat));\n",
    "print(\"Marks of Maths : \" + str(maths));\n",
    "print(\"Marks of Physics : \" + str(physics));\n",
    "print(\"Marks of Computer : \" + str(computer));\n",
    "\n",
    "print(\"---------------------------------\");\n",
    "print(\"Total Marks: 500\");\n",
    "print(\"---------------------------------\");\n",
    "\n",
    "obtained_marks = english+islamiyat+maths+physics+computer;\n",
    "\n",
    "if obtained_marks > 500:\n",
    "    print(\"Error! Obtained marks is greater then total marks\");\n",
    "elif obtained_marks < 0:\n",
    "    print(\"Error! Marks is lessthen 0\");\n",
    "else:\n",
    "    print(\"Obtained Marks : \" + str(obtained_marks));\n",
    "print(\"---------------------------------\");\n",
    "\n",
    "percentage = obtained_marks / 500 * 100;\n",
    "if percentage < 0:\n",
    "    print(\"Error! Percentage is lessthen 0\");\n",
    "elif percentage >100:\n",
    "    print(\"Error! Percentage is greater then 100\");\n",
    "else:\n",
    "    print(\"Percentage : \" + str(percentage)+\"%\");\n",
    "print(\"---------------------------------\");\n",
    "\n",
    "if percentage <= 100 and percentage >= 80:\n",
    "    print(\"Grade : A+\");\n",
    "    print(\"Remarks : Excellent\");\n",
    "    \n",
    "elif percentage <=79 and percentage >= 70:\n",
    "    print(\"Grade : A\");\n",
    "    print(\"Remarks : Very Good\");\n",
    "    \n",
    "elif percentage <=69 and percentage >= 60:\n",
    "    print(\"Grade : B\");\n",
    "    print(\"Remarks : Good\");\n",
    "    \n",
    "elif percentage <=59 and percentage >= 50:\n",
    "    print(\"Grade : C\");\n",
    "    print(\"Remarks : Fair\");\n",
    "\n",
    "elif percentage <=49 and percentage >= 40:\n",
    "    print(\"Grade : D\");\n",
    "    print(\"Remarks : Poor\");\n",
    "    \n",
    "elif percentage <=39 and percentage >= 33:\n",
    "    print(\"Grade : E\");\n",
    "    print(\"Remarks : Need Hard Work\");\n",
    "    \n",
    "elif percentage <=33 and percentage >= 0:\n",
    "    print(\"Grade: F\");\n",
    "    print(\"Remarks : Fail\");\n",
    "else:\n",
    "    print(\"Error! Value not found\");\n",
    "print(\"---------------------------------\");\n",
    "\n",
    "i = 0;\n",
    "subjectName = \"\";\n",
    "if english < 33:\n",
    "    i = i + 1;\n",
    "    subjectName += \" English,\";\n",
    "if islamiyat < 33:\n",
    "    i = i + 1;\n",
    "    subjectName += \" Islamiyat,\";\n",
    "if maths < 33:\n",
    "    i = i + 1;\n",
    "    subjectName += \" Maths,\";\n",
    "if physics < 33:\n",
    "    i = i + 1;\n",
    "    subjectName += \" Physics,\";\n",
    "if computer < 33:\n",
    "    i = i + 1;\n",
    "    subjectName += \" Computer,\";\n",
    "print(\"Failed Subjects : \" + str(i));\n",
    "print(\"Failed Subjects Name: \" + subjectName);\n",
    "print(\"---------------------------------\");"
   ]
  },
  {
   "cell_type": "code",
   "execution_count": 35,
   "id": "5456be6c",
   "metadata": {},
   "outputs": [
    {
     "name": "stdout",
     "output_type": "stream",
     "text": [
      "Enter a Number: 7\n",
      "\n",
      "7 The Number is Odd. \n"
     ]
    }
   ],
   "source": [
    "\"\"\"Q8. Write a program which take input from user and identify that the given number is even\n",
    "or odd?\"\"\"\n",
    "num = int(input(\"Enter a Number: \"));\n",
    "if (num % 2) == 0:\n",
    "    print(\"\\n{0} The Number is Even. \".format(num));\n",
    "else:\n",
    "    print(\"\\n{0} The Number is Odd. \".format(num));"
   ]
  },
  {
   "cell_type": "code",
   "execution_count": 36,
   "id": "df365e1a",
   "metadata": {},
   "outputs": [
    {
     "name": "stdout",
     "output_type": "stream",
     "text": [
      "The list is : [2, 6, 3, 7, 9, 12, 16, 21]\n",
      "\n",
      "Length of list using len() is : 8\n",
      "\n",
      "Length of list using length_hint() is : 8\n"
     ]
    }
   ],
   "source": [
    "\"\"\"Q9. Write a program which print the length of the list?\"\"\"\n",
    "from operator import length_hint;\n",
    "list1 = [2, 6, 3, 7, 9, 12, 16, 21];\n",
    "print (\"The list is : \" + str(list1));\n",
    "list_len = len(list1);\n",
    "list_len_hint = length_hint(list1);\n",
    "print (\"\\nLength of list using len() is : \" + str(list_len));\n",
    "print (\"\\nLength of list using length_hint() is : \" + str(list_len_hint));"
   ]
  },
  {
   "cell_type": "code",
   "execution_count": 19,
   "id": "d62e1bff",
   "metadata": {},
   "outputs": [
    {
     "name": "stdout",
     "output_type": "stream",
     "text": [
      "Sum of all numeric items in given list:  76\n"
     ]
    }
   ],
   "source": [
    "\"\"\"Q10. Write a Python program to sum all the numeric items in a list?\"\"\"\n",
    "list1 = [2, 6, 3, 7, 9, 12, 16, 21];\n",
    "def sumOfList(list, size):\n",
    "    if(size == 0):\n",
    "        return 0;\n",
    "    else:\n",
    "        return list[size - 1] + sumOfList(list, size - 1);\n",
    "total = sumOfList(list1, len(list1));\n",
    "print(\"Sum of all numeric items in given list: \", total);"
   ]
  },
  {
   "cell_type": "code",
   "execution_count": 21,
   "id": "d2630e8d",
   "metadata": {},
   "outputs": [
    {
     "name": "stdout",
     "output_type": "stream",
     "text": [
      "Largest number in the list is: 37\n"
     ]
    }
   ],
   "source": [
    "\"\"\"Q11. Write a Python program to get the largest number from a numeric list.\"\"\"\n",
    "list1 = [3, 7, 9, 12, 21, 37, 16, 2, 6];\n",
    "list1.sort();\n",
    "print(\"Largest number in the list is:\", list1[-1]);"
   ]
  },
  {
   "cell_type": "code",
   "execution_count": 38,
   "id": "72b60387",
   "metadata": {},
   "outputs": [
    {
     "name": "stdout",
     "output_type": "stream",
     "text": [
      "[1, 1, 2, 3]\n"
     ]
    }
   ],
   "source": [
    "\"\"\"Q12. Take a list, say for example this one:\n",
    "a = [1, 1, 2, 3, 5, 8, 13, 21, 34, 55, 89]\n",
    "Write a program that prints out all the elements of the list that are less than 5.\"\"\"\n",
    "def elements_lessthan_five(l): \n",
    "    list1=[];\n",
    "    for i in l: \n",
    "        if i<5: \n",
    "            list1.append(i);\n",
    "    return(list1);\n",
    "print(elements_lessthan_five([1, 1, 2, 3, 5, 8, 13, 21, 34, 55, 89]));"
   ]
  },
  {
   "cell_type": "code",
   "execution_count": null,
   "id": "e749599a",
   "metadata": {},
   "outputs": [],
   "source": []
  }
 ],
 "metadata": {
  "kernelspec": {
   "display_name": "Python 3",
   "language": "python",
   "name": "python3"
  },
  "language_info": {
   "codemirror_mode": {
    "name": "ipython",
    "version": 3
   },
   "file_extension": ".py",
   "mimetype": "text/x-python",
   "name": "python",
   "nbconvert_exporter": "python",
   "pygments_lexer": "ipython3",
   "version": "3.8.8"
  }
 },
 "nbformat": 4,
 "nbformat_minor": 5
}
